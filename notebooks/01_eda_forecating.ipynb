{
 "cells": [
  {
   "cell_type": "code",
   "execution_count": null,
   "id": "60f86230",
   "metadata": {},
   "outputs": [],
   "source": [
    "import pandas as pd\n",
    "from statsmodels.tsa.seasonal import seasonal_decompose\n",
    "from pmdarima import auto_arima\n",
    "import matplotlib.pyplot as plt\n"
   ]
  },
  {
   "cell_type": "code",
   "execution_count": null,
   "id": "ea6c6646",
   "metadata": {},
   "outputs": [],
   "source": [
    "df = pd.read_csv('cleaned_sales_data.csv')\n"
   ]
  },
  {
   "cell_type": "code",
   "execution_count": null,
   "id": "966c40e5",
   "metadata": {},
   "outputs": [],
   "source": [
    "# Convert 'Month' to datetime objects and set as index\n",
    "df['Month'] = pd.to_datetime(df['Month'])\n",
    "df.set_index('Month', inplace=True)\n"
   ]
  },
  {
   "cell_type": "code",
   "execution_count": null,
   "id": "a25ceb17",
   "metadata": {},
   "outputs": [],
   "source": [
    "# Resample to monthly sales\n",
    "monthly_sales = df['Sales'].resample('M').sum()"
   ]
  },
  {
   "cell_type": "code",
   "execution_count": null,
   "id": "435b4c43",
   "metadata": {},
   "outputs": [],
   "source": [
    "# Time series decomposition\n",
    "decomposition = seasonal_decompose(monthly_sales, model='additive')\n",
    "fig = decomposition.plot()\n",
    "fig.set_size_inches(12, 8)\n",
    "plt.savefig('decomposition.png')\n",
    "plt.close()\n"
   ]
  },
  {
   "cell_type": "code",
   "execution_count": null,
   "id": "0cef56fa",
   "metadata": {},
   "outputs": [],
   "source": [
    "# Fit auto_arima model\n",
    "arima_model = auto_arima(monthly_sales, seasonal=True, m=12,\n",
    "                         suppress_warnings=True, stepwise=True)\n",
    "\n",
    "print(arima_model.summary())"
   ]
  },
  {
   "cell_type": "code",
   "execution_count": null,
   "id": "232ce6eb",
   "metadata": {},
   "outputs": [],
   "source": [
    "# Forecast for the next 12 months\n",
    "forecast, conf_int = arima_model.predict(n_periods=12, return_conf_int=True)"
   ]
  },
  {
   "cell_type": "code",
   "execution_count": null,
   "id": "ac454626",
   "metadata": {},
   "outputs": [],
   "source": [
    "# Create a date range for the forecast\n",
    "forecast_index = pd.date_range(start=monthly_sales.index[-1] + pd.DateOffset(months=1),\n",
    "                               periods=12, freq='M')"
   ]
  },
  {
   "cell_type": "code",
   "execution_count": null,
   "id": "cd24294c",
   "metadata": {},
   "outputs": [],
   "source": [
    "# Create a pandas Series for the forecast\n",
    "forecast_series = pd.Series(forecast, index=forecast_index)\n",
    "conf_int_df = pd.DataFrame(conf_int, index=forecast_index, columns=['lower', 'upper'])\n"
   ]
  },
  {
   "cell_type": "code",
   "execution_count": null,
   "id": "b894c4c8",
   "metadata": {},
   "outputs": [],
   "source": [
    "# Plot the forecast\n",
    "plt.figure(figsize=(12, 6))\n",
    "plt.plot(monthly_sales, label='Historical Sales')\n",
    "plt.plot(forecast_series, label='Forecast')\n",
    "plt.fill_between(forecast_index, conf_int_df['lower'], conf_int_df['upper'],\n",
    "                 color='k', alpha=0.15)\n",
    "plt.title('Sales Forecast')\n",
    "plt.xlabel('Month')\n",
    "plt.ylabel('Sales')\n",
    "plt.legend()\n",
    "plt.grid(True)\n",
    "plt.savefig('sales_forecast.png')\n",
    "plt.close()\n",
    "\n",
    "# Print the forecast values\n",
    "print(\"\\nForecasted Sales for the Next 12 Months:\")\n",
    "print(forecast_series)"
   ]
  }
 ],
 "metadata": {
  "language_info": {
   "name": "python"
  }
 },
 "nbformat": 4,
 "nbformat_minor": 5
}
